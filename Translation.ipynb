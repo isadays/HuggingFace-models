{
  "nbformat": 4,
  "nbformat_minor": 0,
  "metadata": {
    "colab": {
      "provenance": []
    },
    "kernelspec": {
      "name": "python3",
      "display_name": "Python 3"
    },
    "language_info": {
      "name": "python"
    }
  },
  "cells": [
    {
      "cell_type": "code",
      "execution_count": null,
      "metadata": {
        "id": "xRvamWDlinRA"
      },
      "outputs": [],
      "source": [
        "!pip install transformers\n"
      ]
    },
    {
      "cell_type": "code",
      "source": [
        "!pip install torch\n"
      ],
      "metadata": {
        "id": "D0zE9YomiqW1"
      },
      "execution_count": null,
      "outputs": []
    },
    {
      "cell_type": "code",
      "source": [
        "from transformers import pipeline\n"
      ],
      "metadata": {
        "id": "yKdfZjJajjRu"
      },
      "execution_count": 4,
      "outputs": []
    },
    {
      "cell_type": "code",
      "source": [
        "import torch\n"
      ],
      "metadata": {
        "id": "rf9slE-vjvDc"
      },
      "execution_count": 5,
      "outputs": []
    },
    {
      "cell_type": "code",
      "source": [
        "translator = pipeline(task='translation', model='facebook/nllb-200-distilled-600M', torch_dtype=torch.bfloat16)"
      ],
      "metadata": {
        "id": "YNZagZXUjz28"
      },
      "execution_count": null,
      "outputs": []
    },
    {
      "cell_type": "code",
      "source": [
        "text = \"\"\"\\\n",
        "meu cachorro é adorável, \\\n",
        "    seu gato é fofo \\\n",
        "        o panda dela é amigável \\\n",
        "            a ilhama dele é gentil \\\n",
        "                Nós temos animais maravilhosos!\"\"\""
      ],
      "metadata": {
        "id": "VlktikzPj3Ii"
      },
      "execution_count": 8,
      "outputs": []
    },
    {
      "cell_type": "code",
      "source": [
        "text_translated = translator(text, src_lang='pt_Latn', tgt_lang = 'fra_Latn'\n",
        "                             )"
      ],
      "metadata": {
        "id": "Ih-pno7NkPKM"
      },
      "execution_count": 9,
      "outputs": []
    },
    {
      "cell_type": "code",
      "source": [
        "text_translated"
      ],
      "metadata": {
        "colab": {
          "base_uri": "https://localhost:8080/"
        },
        "id": "wiJBMsj0kRVS",
        "outputId": "55e66861-70bb-4f2b-812f-e3e2e88ae17f"
      },
      "execution_count": 10,
      "outputs": [
        {
          "output_type": "execute_result",
          "data": {
            "text/plain": [
              "[{'translation_text': 'Mon chien est adorable, son chat est gentil ou son panda est sympathique et son œil est gentil.'}]"
            ]
          },
          "metadata": {},
          "execution_count": 10
        }
      ]
    },
    {
      "cell_type": "code",
      "source": [
        "text_translated_se = translator(text, src_lang='pt_Latn', tgt_lang = 'swe_Latn'\n",
        "                             )"
      ],
      "metadata": {
        "id": "hid82QvZkY3d"
      },
      "execution_count": 11,
      "outputs": []
    },
    {
      "cell_type": "code",
      "source": [
        "text_translated_se"
      ],
      "metadata": {
        "colab": {
          "base_uri": "https://localhost:8080/"
        },
        "id": "KR0YTbf9lRXb",
        "outputId": "922e31e1-2963-45d3-d999-d4c3b0711bdc"
      },
      "execution_count": 12,
      "outputs": [
        {
          "output_type": "execute_result",
          "data": {
            "text/plain": [
              "[{'translation_text': 'Min hund är underbar, hans katt är söt eller hans panda är vänlig och hans älskling är snäll Vi har underbara djur!'}]"
            ]
          },
          "metadata": {},
          "execution_count": 12
        }
      ]
    }
  ]
}
